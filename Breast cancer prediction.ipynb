{
 "cells": [
  {
   "cell_type": "markdown",
   "metadata": {
    "id": "khkrZMtMJqLN"
   },
   "source": [
    "# **Brief note on the dataset**"
   ]
  },
  {
   "cell_type": "markdown",
   "metadata": {
    "id": "Bzinfm5JJ7G_"
   },
   "source": [
    "There are Four types of data in the dataset.\n",
    "\n",
    "1.   **General Information of patient**\n",
    "\n",
    "      * **Patient code** and  **Id** of Patient \n",
    "      * **Age** of the Patient - *Continuous variable*\n",
    "      *  Patient's **event death** status - Whether he is alive or dead - *Binary variable* and can be considered as reponse variable.\n",
    "\n",
    "2.   **Cancer related Information of Patient**\n",
    "\n",
    "      * Total **Survival time** of cancer in Patient. - *Continuous variable*\n",
    "      * **Reccurance Time** - If cancer is found after treatment, or after a period of time when the cancer couldn’t be detected.  - *Continuous variable*\n",
    "      *  In dataset, Reccurence time is same as survival time for patients who are alive and less than survival time when patient died. May be because of cancer reccurence the patients died\n",
    "      * **Grade** of Cancer - There are three grades of invasive breast cancer: Grade 1 looks most like normal breast cells and is usually slow growing. Grade 2 looks less like normal cells and is growing faster. Grade 3 looks different to normal breast cells and is usually fast growing. - *Discrete variable*\n",
    "      * **Histological type** of cancer. It refers to the growth pattern of the tumours - *Discrete Variable*\n",
    "      * **Diameter** of tumor.  - *Continuous variable*\n",
    "      * No. of **pos nodes** of tumor.  - *Discrete Variable*\n",
    "      * **Angioinv** indicates the extent to which the cancer has invaded blood vessels. - *Discrete Variable*\n",
    "      * **lymphinfil** indicates the level of lymphocytic infiltration. - *Discrete Variable*\n",
    "\n",
    "3.   **Treatment Performed on Patient**\n",
    "\n",
    "      * Whether **Chemotheraphy** is performed on Patient - *Binary variable*\n",
    "      * Whether **harmonal theraphy** is performed on patient - *Binary variable*\n",
    "      *  If **Forequarter amputation** is performed on patient. Forequarter amputation is amputation of the arm, scapula and clavicle. - *Binary variable*\n",
    "\n",
    "4.   **Gene related Information of patient**\n",
    "\n",
    "      * Gene information is related to genes of particular tissue where cancer occurs. Each gene has different number based on its activity.\n",
    "      This information is Extracted through **Gene expression Profiling**.\n",
    "      All of these are *Continuous variables*\n",
    "      * **Note:** We will deep dive into different terminology like gene, profiling,gene expression etc later for second question. For now think of Gene information as some scaled numbers that tell the activity of different genes.\n",
    "      Ex - G3PDH_570, Contig45645_RC etc are different genes.\n",
    "\n",
    "\n",
    "\n",
    "\n",
    "\n",
    "\n"
   ]
  },
  {
   "cell_type": "markdown",
   "metadata": {
    "id": "fFy5PVPITBX3"
   },
   "source": [
    "# **Research Work behind the the dataset**"
   ]
  },
  {
   "cell_type": "markdown",
   "metadata": {
    "id": "WeoZZmoz9mmA"
   },
   "source": [
    "Apart from General Information of Patient, cancer information and treatment performed, Gene data is most important information in the data set.\n",
    "\n",
    "The clinical and histopathological parameters of 200 breast cancer patients were studied for their effects on clinical outcome using univariate/multivariate Cox regression. The **strength of Gene expression** based classification vs Standard markers was evaluated by adding this variable to Cox regression model.It was found out that TP53 mutation status and **gene expression profiles** are powerful markers of breast cancer.\n",
    "\n",
    "Apart from this, another set of researchers had identified two unique subgroups in Estrogen receptor positive(ER+) type of breast cancer that has 100% survival.\n",
    "In our dataset, may be one of histological types would represent ER+ subgroup.\n",
    "\n",
    "1.   One of these groups had molecular activity that is similar to normal tissue and was already observed before and denoted as *Normal-like*\n",
    "2.   The other expreses high level of C-MYB gene and low level of innate inflamatory gene and has molecular activity distinct from normal like. This type is named as **C-MYB+**.\n",
    "\n",
    "To identify this, researchers have used the gene expression data used for above Cox regression model. Recognising shape of gene expression data at high dimension is very important to identify sub groups. To identify these geometric shapes researchers have used below mathematical methods.\n",
    "\n",
    "  *   **Disease specific genomic analysis(DSGA):** It is a mathematical method of analysis of genomic data that highlights component of data related to disease. It defines a trnasformation that measures the extent to which diseased tissue deviates from normal tissue. \n",
    "  *   Here Genomic data of diseased tissue is split into two terms : a) normal component of data that mimics healthy tissue. b) diseased component that measures the deviation from normal. **T = Nc.T + Dc.T**.\n",
    "  * **Progression Analysis of disease(PAD):** It is an approach to data analysis of disease that unravels geometry of datasets and provide easy access to outcome.This method is an application of **Mapper**, a mathematical tool that builds a simple geometric representation of data along preassigned guiding functions called filters.\n",
    "  * Here we define an application of Mapper to the analysis of genomic data from disease, with guiding filter functions provided by Disease-Specific Genomic\n",
    "Analysis (DSGA). The input to Mapper is transformed data from DSGA. PAD is main method for cluster analysis and it helped identify the unique sub groups of ER+.\n",
    "\n",
    "Because of these different patterns within Gene expressions, gene information of a cell are very important data for identifying the survival\n",
    "\n",
    "\n",
    "\n",
    "\n",
    "\n",
    "\n"
   ]
  },
  {
   "cell_type": "markdown",
   "metadata": {
    "id": "BLSGsrAQxhjf"
   },
   "source": [
    "# **How do you think the creators of this dataset have calculated the values in column 17 to 1554? And what does the column names mean? **"
   ]
  },
  {
   "cell_type": "markdown",
   "metadata": {
    "id": "ISmxw6IUxtZd"
   },
   "source": [
    "To Understand this, we will dive deep into different terminology and cell functioning. \n",
    "\n",
    "Breast Cancer begins in **Epithelial tissue** or in tissue that lines internal organs.\n",
    "\n",
    "*   **Tissue:** Group of cells that are structurally and functionally alike constitute a tissue.\n",
    "*   **Gene:** A gene is the basic physical and functional unit of heredity. Genes are made up of DNA. Genes are present in cell nucleus. No matter how different the cells are, they all have same genes within a person. Each cell contains **25000-30000 genes**. \n",
    "* **Gene Expression:** Process by which information from gene is used to synthesis end products i.e proteins. DNA *transcription* produces mRNA and mRNA *translation* make proteins.\n",
    "Gene ---> mRNA ---> Proteins. This conversion tells the **activity of the gene** like how active is it in making the end products.\n",
    "* **Gene Expression Profiling:** It is the measurement of activity(expression) of thousands of genes at once to create global picture of cellular function. \n",
    "**Activity means measuring how much amount of mRNA is produced during transcription at different times at different conditions.** We check for mRNA because measuring proteins is difficult task. This activity is measured using a DNA-chip called **micro array** which is made of genes itself. The micro array consists of Single stranded DNA genes that are grouped into differnt groups.\n",
    "\n",
    "Gene information in the dataset contains Gene activity(Expression) of some genes in a cells within an affected tissue. The numbers in the columns of genes represents amount of gene activity which is recorded using Gene expression Profiling.\n",
    "\n",
    "Researchers have found that measuring this gene activity(expression) is crucial in determining the survival of patient. They have found different patterns withing these gene activity numbers of different genes as discussed in first question.\n",
    "\n",
    "\n",
    "\n",
    "\n"
   ]
  },
  {
   "cell_type": "code",
   "execution_count": 42,
   "metadata": {
    "id": "m6FpNUM5sTt0"
   },
   "outputs": [],
   "source": [
    "import pandas as pd\n",
    "import numpy as np\n",
    "import matplotlib.pyplot as plt\n",
    "import seaborn as sns\n",
    "from sklearn.model_selection import train_test_split\n",
    "from sklearn.preprocessing import OneHotEncoder\n",
    "from imblearn.over_sampling import SMOTE\n",
    "from sklearn.preprocessing import StandardScaler\n",
    "from imblearn.over_sampling import RandomOverSampler\n",
    "from sklearn import linear_model\n",
    "from sklearn.svm import SVC\n",
    "from xgboost import XGBClassifier\n",
    "from sklearn.neighbors import KNeighborsClassifier\n",
    "from sklearn.model_selection import GridSearchCV\n",
    "from sklearn import metrics\n",
    "import itertools"
   ]
  },
  {
   "cell_type": "code",
   "execution_count": 39,
   "metadata": {
    "colab": {
     "base_uri": "https://localhost:8080/",
     "height": 261
    },
    "id": "QZUdRK8EsT7M",
    "outputId": "b8b692a0-d4e9-4241-975a-92ac44d62187"
   },
   "outputs": [
    {
     "name": "stdout",
     "output_type": "stream",
     "text": [
      "Dataset contains  272 rows and  1570 columns\n"
     ]
    },
    {
     "data": {
      "text/html": [
       "<div>\n",
       "<style scoped>\n",
       "    .dataframe tbody tr th:only-of-type {\n",
       "        vertical-align: middle;\n",
       "    }\n",
       "\n",
       "    .dataframe tbody tr th {\n",
       "        vertical-align: top;\n",
       "    }\n",
       "\n",
       "    .dataframe thead th {\n",
       "        text-align: right;\n",
       "    }\n",
       "</style>\n",
       "<table border=\"1\" class=\"dataframe\">\n",
       "  <thead>\n",
       "    <tr style=\"text-align: right;\">\n",
       "      <th></th>\n",
       "      <th>Patient</th>\n",
       "      <th>ID</th>\n",
       "      <th>age</th>\n",
       "      <th>eventdeath</th>\n",
       "      <th>survival</th>\n",
       "      <th>timerecurrence</th>\n",
       "      <th>chemo</th>\n",
       "      <th>hormonal</th>\n",
       "      <th>amputation</th>\n",
       "      <th>histtype</th>\n",
       "      <th>diam</th>\n",
       "      <th>posnodes</th>\n",
       "      <th>grade</th>\n",
       "      <th>angioinv</th>\n",
       "      <th>lymphinfil</th>\n",
       "      <th>barcode</th>\n",
       "      <th>esr1</th>\n",
       "      <th>G3PDH_570</th>\n",
       "      <th>Contig45645_RC</th>\n",
       "      <th>Contig44916_RC</th>\n",
       "      <th>D25272</th>\n",
       "      <th>J00129</th>\n",
       "      <th>Contig29982_RC</th>\n",
       "      <th>Contig56678_RC</th>\n",
       "      <th>Contig53047_RC</th>\n",
       "      <th>Contig19551</th>\n",
       "      <th>Contig47230_RC</th>\n",
       "      <th>Contig46501_RC</th>\n",
       "      <th>Contig20749_RC</th>\n",
       "      <th>AL157500</th>\n",
       "      <th>AL157502</th>\n",
       "      <th>Contig37376_RC</th>\n",
       "      <th>Contig45395_RC</th>\n",
       "      <th>X98307</th>\n",
       "      <th>AL157505</th>\n",
       "      <th>AB033027</th>\n",
       "      <th>Contig24026_RC</th>\n",
       "      <th>Contig27800_RC</th>\n",
       "      <th>Contig42500_RC</th>\n",
       "      <th>Contig7147</th>\n",
       "      <th>...</th>\n",
       "      <th>NM_001505</th>\n",
       "      <th>NM_001511</th>\n",
       "      <th>NM_002245</th>\n",
       "      <th>NM_018901</th>\n",
       "      <th>NM_002250</th>\n",
       "      <th>NM_001523</th>\n",
       "      <th>NM_018910</th>\n",
       "      <th>NM_000802</th>\n",
       "      <th>NM_002266</th>\n",
       "      <th>NM_001540</th>\n",
       "      <th>NM_002274</th>\n",
       "      <th>NM_001546</th>\n",
       "      <th>NM_002275</th>\n",
       "      <th>NM_002276</th>\n",
       "      <th>NM_001548</th>\n",
       "      <th>Contig51486_RC</th>\n",
       "      <th>NM_000824</th>\n",
       "      <th>NM_001554</th>\n",
       "      <th>NM_000826</th>\n",
       "      <th>NM_001555</th>\n",
       "      <th>NM_018942</th>\n",
       "      <th>NM_001565</th>\n",
       "      <th>NM_002299</th>\n",
       "      <th>NM_018950</th>\n",
       "      <th>NM_018952</th>\n",
       "      <th>Contig55606_RC</th>\n",
       "      <th>D25217</th>\n",
       "      <th>NM_000846</th>\n",
       "      <th>NM_000849</th>\n",
       "      <th>Contig29022_RC</th>\n",
       "      <th>Contig36312_RC</th>\n",
       "      <th>Contig38980_RC</th>\n",
       "      <th>NM_000853</th>\n",
       "      <th>NM_000854</th>\n",
       "      <th>NM_000860</th>\n",
       "      <th>Contig29014_RC</th>\n",
       "      <th>Contig46616_RC</th>\n",
       "      <th>NM_000888</th>\n",
       "      <th>NM_000898</th>\n",
       "      <th>AF067420</th>\n",
       "    </tr>\n",
       "  </thead>\n",
       "  <tbody>\n",
       "    <tr>\n",
       "      <th>0</th>\n",
       "      <td>s122</td>\n",
       "      <td>18</td>\n",
       "      <td>43</td>\n",
       "      <td>0</td>\n",
       "      <td>14.817248</td>\n",
       "      <td>14.817248</td>\n",
       "      <td>0</td>\n",
       "      <td>0</td>\n",
       "      <td>1</td>\n",
       "      <td>1</td>\n",
       "      <td>25</td>\n",
       "      <td>0</td>\n",
       "      <td>2</td>\n",
       "      <td>3</td>\n",
       "      <td>1</td>\n",
       "      <td>6274</td>\n",
       "      <td>-0.413955</td>\n",
       "      <td>-0.954246</td>\n",
       "      <td>0.051024</td>\n",
       "      <td>-0.111203</td>\n",
       "      <td>-0.050066</td>\n",
       "      <td>-0.340897</td>\n",
       "      <td>-0.038770</td>\n",
       "      <td>-0.104256</td>\n",
       "      <td>-0.485671</td>\n",
       "      <td>-0.565482</td>\n",
       "      <td>0.159871</td>\n",
       "      <td>0.198546</td>\n",
       "      <td>0.131750</td>\n",
       "      <td>0.600214</td>\n",
       "      <td>0.034498</td>\n",
       "      <td>0.492915</td>\n",
       "      <td>0.032284</td>\n",
       "      <td>0.020498</td>\n",
       "      <td>0.162939</td>\n",
       "      <td>-0.026182</td>\n",
       "      <td>0.090109</td>\n",
       "      <td>-0.110716</td>\n",
       "      <td>0.025322</td>\n",
       "      <td>0.690928</td>\n",
       "      <td>...</td>\n",
       "      <td>-0.129174</td>\n",
       "      <td>-0.440579</td>\n",
       "      <td>0.091784</td>\n",
       "      <td>-0.385110</td>\n",
       "      <td>-0.289255</td>\n",
       "      <td>-0.485699</td>\n",
       "      <td>-0.405309</td>\n",
       "      <td>-0.109878</td>\n",
       "      <td>-0.472279</td>\n",
       "      <td>-0.331498</td>\n",
       "      <td>-0.358591</td>\n",
       "      <td>-0.070151</td>\n",
       "      <td>-0.145741</td>\n",
       "      <td>-0.247676</td>\n",
       "      <td>-0.551571</td>\n",
       "      <td>-0.201436</td>\n",
       "      <td>-0.323253</td>\n",
       "      <td>-0.031295</td>\n",
       "      <td>-0.596451</td>\n",
       "      <td>-0.891091</td>\n",
       "      <td>-0.099162</td>\n",
       "      <td>-0.721029</td>\n",
       "      <td>-0.071294</td>\n",
       "      <td>-0.399346</td>\n",
       "      <td>0.393402</td>\n",
       "      <td>-0.301836</td>\n",
       "      <td>-0.271553</td>\n",
       "      <td>-0.383663</td>\n",
       "      <td>0.278246</td>\n",
       "      <td>-0.216583</td>\n",
       "      <td>0.591103</td>\n",
       "      <td>-0.355018</td>\n",
       "      <td>0.373644</td>\n",
       "      <td>-0.760690</td>\n",
       "      <td>-0.164025</td>\n",
       "      <td>-0.038726</td>\n",
       "      <td>0.237856</td>\n",
       "      <td>-0.087631</td>\n",
       "      <td>-0.369153</td>\n",
       "      <td>0.153795</td>\n",
       "    </tr>\n",
       "    <tr>\n",
       "      <th>1</th>\n",
       "      <td>s123</td>\n",
       "      <td>19</td>\n",
       "      <td>48</td>\n",
       "      <td>0</td>\n",
       "      <td>14.261465</td>\n",
       "      <td>14.261465</td>\n",
       "      <td>0</td>\n",
       "      <td>0</td>\n",
       "      <td>0</td>\n",
       "      <td>1</td>\n",
       "      <td>20</td>\n",
       "      <td>0</td>\n",
       "      <td>3</td>\n",
       "      <td>3</td>\n",
       "      <td>1</td>\n",
       "      <td>6275</td>\n",
       "      <td>0.195251</td>\n",
       "      <td>0.244626</td>\n",
       "      <td>-0.199602</td>\n",
       "      <td>-0.111397</td>\n",
       "      <td>-0.135207</td>\n",
       "      <td>0.026813</td>\n",
       "      <td>-0.165675</td>\n",
       "      <td>0.081549</td>\n",
       "      <td>-0.736914</td>\n",
       "      <td>0.118127</td>\n",
       "      <td>-0.183824</td>\n",
       "      <td>0.265609</td>\n",
       "      <td>-0.080799</td>\n",
       "      <td>-0.034788</td>\n",
       "      <td>0.146600</td>\n",
       "      <td>0.096864</td>\n",
       "      <td>0.043611</td>\n",
       "      <td>0.049600</td>\n",
       "      <td>0.150307</td>\n",
       "      <td>-0.150096</td>\n",
       "      <td>-0.082436</td>\n",
       "      <td>-0.117535</td>\n",
       "      <td>-0.245531</td>\n",
       "      <td>-0.070265</td>\n",
       "      <td>...</td>\n",
       "      <td>-0.208322</td>\n",
       "      <td>-0.375427</td>\n",
       "      <td>-0.564630</td>\n",
       "      <td>0.200229</td>\n",
       "      <td>-0.256182</td>\n",
       "      <td>-0.157249</td>\n",
       "      <td>0.165127</td>\n",
       "      <td>-0.321392</td>\n",
       "      <td>-0.218458</td>\n",
       "      <td>-0.026051</td>\n",
       "      <td>-0.170069</td>\n",
       "      <td>-0.201066</td>\n",
       "      <td>-0.490440</td>\n",
       "      <td>0.089429</td>\n",
       "      <td>-0.352569</td>\n",
       "      <td>0.007789</td>\n",
       "      <td>0.171152</td>\n",
       "      <td>-0.074320</td>\n",
       "      <td>0.716055</td>\n",
       "      <td>-0.489632</td>\n",
       "      <td>-0.237086</td>\n",
       "      <td>-0.074905</td>\n",
       "      <td>-0.122872</td>\n",
       "      <td>-0.020308</td>\n",
       "      <td>-0.250971</td>\n",
       "      <td>0.291171</td>\n",
       "      <td>-0.263896</td>\n",
       "      <td>-0.348006</td>\n",
       "      <td>-0.172679</td>\n",
       "      <td>0.224676</td>\n",
       "      <td>-0.199829</td>\n",
       "      <td>-0.001635</td>\n",
       "      <td>-0.062922</td>\n",
       "      <td>-0.682204</td>\n",
       "      <td>-0.220934</td>\n",
       "      <td>-0.100088</td>\n",
       "      <td>-0.466537</td>\n",
       "      <td>-0.231547</td>\n",
       "      <td>-0.643019</td>\n",
       "      <td>-0.014098</td>\n",
       "    </tr>\n",
       "    <tr>\n",
       "      <th>2</th>\n",
       "      <td>s124</td>\n",
       "      <td>20</td>\n",
       "      <td>38</td>\n",
       "      <td>0</td>\n",
       "      <td>6.644764</td>\n",
       "      <td>6.644764</td>\n",
       "      <td>0</td>\n",
       "      <td>0</td>\n",
       "      <td>0</td>\n",
       "      <td>1</td>\n",
       "      <td>15</td>\n",
       "      <td>0</td>\n",
       "      <td>2</td>\n",
       "      <td>1</td>\n",
       "      <td>1</td>\n",
       "      <td>6276</td>\n",
       "      <td>0.596177</td>\n",
       "      <td>0.082434</td>\n",
       "      <td>-0.156199</td>\n",
       "      <td>-0.084980</td>\n",
       "      <td>-0.179003</td>\n",
       "      <td>-0.490377</td>\n",
       "      <td>-0.193691</td>\n",
       "      <td>0.186532</td>\n",
       "      <td>-0.801328</td>\n",
       "      <td>0.128750</td>\n",
       "      <td>0.403489</td>\n",
       "      <td>0.161287</td>\n",
       "      <td>0.030411</td>\n",
       "      <td>-0.074798</td>\n",
       "      <td>-0.190267</td>\n",
       "      <td>0.111516</td>\n",
       "      <td>-0.212994</td>\n",
       "      <td>-0.083166</td>\n",
       "      <td>0.363167</td>\n",
       "      <td>-0.202888</td>\n",
       "      <td>0.037665</td>\n",
       "      <td>-0.061916</td>\n",
       "      <td>0.082368</td>\n",
       "      <td>0.048723</td>\n",
       "      <td>...</td>\n",
       "      <td>0.179152</td>\n",
       "      <td>-0.470602</td>\n",
       "      <td>-0.080452</td>\n",
       "      <td>0.611942</td>\n",
       "      <td>-0.018856</td>\n",
       "      <td>0.170203</td>\n",
       "      <td>0.609129</td>\n",
       "      <td>-0.080603</td>\n",
       "      <td>-0.255806</td>\n",
       "      <td>-0.233129</td>\n",
       "      <td>0.251981</td>\n",
       "      <td>0.583411</td>\n",
       "      <td>0.827428</td>\n",
       "      <td>-1.056209</td>\n",
       "      <td>-0.068477</td>\n",
       "      <td>0.011319</td>\n",
       "      <td>-0.037401</td>\n",
       "      <td>-0.479714</td>\n",
       "      <td>0.774578</td>\n",
       "      <td>-0.256280</td>\n",
       "      <td>-0.010993</td>\n",
       "      <td>-0.445192</td>\n",
       "      <td>-0.191234</td>\n",
       "      <td>-0.088751</td>\n",
       "      <td>-0.200597</td>\n",
       "      <td>0.355198</td>\n",
       "      <td>-0.363763</td>\n",
       "      <td>-0.364457</td>\n",
       "      <td>0.211452</td>\n",
       "      <td>0.519197</td>\n",
       "      <td>0.328736</td>\n",
       "      <td>-0.047571</td>\n",
       "      <td>0.084228</td>\n",
       "      <td>-0.695950</td>\n",
       "      <td>-0.402840</td>\n",
       "      <td>-0.099965</td>\n",
       "      <td>0.110155</td>\n",
       "      <td>-0.114298</td>\n",
       "      <td>0.258495</td>\n",
       "      <td>-0.198911</td>\n",
       "    </tr>\n",
       "    <tr>\n",
       "      <th>3</th>\n",
       "      <td>s125</td>\n",
       "      <td>21</td>\n",
       "      <td>50</td>\n",
       "      <td>0</td>\n",
       "      <td>7.748118</td>\n",
       "      <td>7.748118</td>\n",
       "      <td>0</td>\n",
       "      <td>1</td>\n",
       "      <td>0</td>\n",
       "      <td>1</td>\n",
       "      <td>15</td>\n",
       "      <td>1</td>\n",
       "      <td>2</td>\n",
       "      <td>3</td>\n",
       "      <td>1</td>\n",
       "      <td>6277</td>\n",
       "      <td>0.501286</td>\n",
       "      <td>-1.071614</td>\n",
       "      <td>-0.206041</td>\n",
       "      <td>-0.051775</td>\n",
       "      <td>-0.049676</td>\n",
       "      <td>-0.306176</td>\n",
       "      <td>0.061596</td>\n",
       "      <td>0.115982</td>\n",
       "      <td>-0.842997</td>\n",
       "      <td>-0.020820</td>\n",
       "      <td>-0.189779</td>\n",
       "      <td>-0.003238</td>\n",
       "      <td>0.450045</td>\n",
       "      <td>-0.024921</td>\n",
       "      <td>-0.187729</td>\n",
       "      <td>0.012188</td>\n",
       "      <td>-0.110403</td>\n",
       "      <td>-0.036232</td>\n",
       "      <td>-0.014174</td>\n",
       "      <td>-0.192298</td>\n",
       "      <td>-0.116583</td>\n",
       "      <td>-0.117127</td>\n",
       "      <td>-0.082694</td>\n",
       "      <td>-0.005107</td>\n",
       "      <td>...</td>\n",
       "      <td>-0.131830</td>\n",
       "      <td>-0.423847</td>\n",
       "      <td>-0.732862</td>\n",
       "      <td>-0.437769</td>\n",
       "      <td>-0.337763</td>\n",
       "      <td>-0.230526</td>\n",
       "      <td>-0.371917</td>\n",
       "      <td>-0.148544</td>\n",
       "      <td>-0.554392</td>\n",
       "      <td>-0.436530</td>\n",
       "      <td>-0.298767</td>\n",
       "      <td>-0.292425</td>\n",
       "      <td>-0.658711</td>\n",
       "      <td>0.188053</td>\n",
       "      <td>-0.361884</td>\n",
       "      <td>0.263228</td>\n",
       "      <td>0.155554</td>\n",
       "      <td>-0.136231</td>\n",
       "      <td>-0.139935</td>\n",
       "      <td>-0.646764</td>\n",
       "      <td>-0.231747</td>\n",
       "      <td>-0.461515</td>\n",
       "      <td>-0.231232</td>\n",
       "      <td>-0.180521</td>\n",
       "      <td>0.160247</td>\n",
       "      <td>-0.400131</td>\n",
       "      <td>-0.429229</td>\n",
       "      <td>-0.382146</td>\n",
       "      <td>0.189681</td>\n",
       "      <td>-0.115396</td>\n",
       "      <td>0.648861</td>\n",
       "      <td>-0.039088</td>\n",
       "      <td>0.182182</td>\n",
       "      <td>-0.524640</td>\n",
       "      <td>0.037320</td>\n",
       "      <td>-0.167688</td>\n",
       "      <td>-0.016790</td>\n",
       "      <td>-0.285344</td>\n",
       "      <td>-0.251188</td>\n",
       "      <td>0.862710</td>\n",
       "    </tr>\n",
       "    <tr>\n",
       "      <th>4</th>\n",
       "      <td>s126</td>\n",
       "      <td>22</td>\n",
       "      <td>38</td>\n",
       "      <td>0</td>\n",
       "      <td>6.436687</td>\n",
       "      <td>6.318960</td>\n",
       "      <td>0</td>\n",
       "      <td>0</td>\n",
       "      <td>1</td>\n",
       "      <td>1</td>\n",
       "      <td>15</td>\n",
       "      <td>0</td>\n",
       "      <td>2</td>\n",
       "      <td>2</td>\n",
       "      <td>1</td>\n",
       "      <td>6278</td>\n",
       "      <td>-0.066771</td>\n",
       "      <td>-0.982276</td>\n",
       "      <td>-0.514666</td>\n",
       "      <td>-0.118483</td>\n",
       "      <td>-0.086523</td>\n",
       "      <td>-0.377659</td>\n",
       "      <td>-0.093353</td>\n",
       "      <td>0.302795</td>\n",
       "      <td>-0.794573</td>\n",
       "      <td>-0.001558</td>\n",
       "      <td>-0.210314</td>\n",
       "      <td>0.046650</td>\n",
       "      <td>-0.151043</td>\n",
       "      <td>-0.016541</td>\n",
       "      <td>-0.168022</td>\n",
       "      <td>0.048334</td>\n",
       "      <td>-0.049165</td>\n",
       "      <td>-0.060926</td>\n",
       "      <td>-0.060485</td>\n",
       "      <td>-0.061257</td>\n",
       "      <td>-0.018171</td>\n",
       "      <td>-0.057568</td>\n",
       "      <td>0.033263</td>\n",
       "      <td>0.070836</td>\n",
       "      <td>...</td>\n",
       "      <td>0.281523</td>\n",
       "      <td>-0.318070</td>\n",
       "      <td>-0.171916</td>\n",
       "      <td>0.064884</td>\n",
       "      <td>-0.261164</td>\n",
       "      <td>0.163015</td>\n",
       "      <td>0.057460</td>\n",
       "      <td>-0.190698</td>\n",
       "      <td>-0.144005</td>\n",
       "      <td>0.430455</td>\n",
       "      <td>-0.313115</td>\n",
       "      <td>0.141877</td>\n",
       "      <td>-0.711848</td>\n",
       "      <td>0.011089</td>\n",
       "      <td>-0.067695</td>\n",
       "      <td>0.147941</td>\n",
       "      <td>-0.059997</td>\n",
       "      <td>-0.162217</td>\n",
       "      <td>0.376607</td>\n",
       "      <td>1.848225</td>\n",
       "      <td>-0.241328</td>\n",
       "      <td>-0.215452</td>\n",
       "      <td>-0.365594</td>\n",
       "      <td>-0.022543</td>\n",
       "      <td>-0.383856</td>\n",
       "      <td>-0.122634</td>\n",
       "      <td>-0.398354</td>\n",
       "      <td>-0.386030</td>\n",
       "      <td>0.286508</td>\n",
       "      <td>-0.238712</td>\n",
       "      <td>-0.287538</td>\n",
       "      <td>-0.286893</td>\n",
       "      <td>0.057082</td>\n",
       "      <td>-0.565021</td>\n",
       "      <td>-0.105632</td>\n",
       "      <td>-0.108148</td>\n",
       "      <td>-0.405853</td>\n",
       "      <td>-0.053601</td>\n",
       "      <td>-0.677072</td>\n",
       "      <td>0.134160</td>\n",
       "    </tr>\n",
       "  </tbody>\n",
       "</table>\n",
       "<p>5 rows × 1570 columns</p>\n",
       "</div>"
      ],
      "text/plain": [
       "  Patient  ID  age  eventdeath  ...  Contig46616_RC  NM_000888  NM_000898  AF067420\n",
       "0    s122  18   43           0  ...        0.237856  -0.087631  -0.369153  0.153795\n",
       "1    s123  19   48           0  ...       -0.466537  -0.231547  -0.643019 -0.014098\n",
       "2    s124  20   38           0  ...        0.110155  -0.114298   0.258495 -0.198911\n",
       "3    s125  21   50           0  ...       -0.016790  -0.285344  -0.251188  0.862710\n",
       "4    s126  22   38           0  ...       -0.405853  -0.053601  -0.677072  0.134160\n",
       "\n",
       "[5 rows x 1570 columns]"
      ]
     },
     "execution_count": 39,
     "metadata": {
      "tags": []
     },
     "output_type": "execute_result"
    }
   ],
   "source": [
    "path = '/content/sample_data/NKI_cleaned.csv'\n",
    "df_NKI = pd.read_csv(path)\n",
    "print('Dataset contains ',df_NKI.shape[0],'rows and ',df_NKI.shape[1],'columns')\n",
    "df_NKI.head()"
   ]
  },
  {
   "cell_type": "markdown",
   "metadata": {
    "id": "WzHLHR7mulOq"
   },
   "source": [
    "# **Check for Null values and duplicates**"
   ]
  },
  {
   "cell_type": "code",
   "execution_count": 40,
   "metadata": {
    "colab": {
     "base_uri": "https://localhost:8080/"
    },
    "id": "kTmvO5s6sT-o",
    "outputId": "a3956c32-b07b-41bf-e3ec-8a5fe6f7241a"
   },
   "outputs": [
    {
     "name": "stdout",
     "output_type": "stream",
     "text": [
      "There are 0 null values and 0 duplicate rows\n"
     ]
    }
   ],
   "source": [
    "null_val = df_NKI.isnull().values.sum()\n",
    "duplicate = sum(df_NKI.duplicated())\n",
    "print('There are',null_val, 'null values and',duplicate,'duplicate rows')"
   ]
  },
  {
   "cell_type": "code",
   "execution_count": 41,
   "metadata": {
    "colab": {
     "base_uri": "https://localhost:8080/"
    },
    "id": "YB9Q3cEOxxHa",
    "outputId": "9f78d7fa-1a73-4baa-aa3d-cd33d3e52127"
   },
   "outputs": [
    {
     "name": "stdout",
     "output_type": "stream",
     "text": [
      "272\n",
      "272\n",
      "272\n"
     ]
    }
   ],
   "source": [
    "print(df_NKI['ID'].nunique())\n",
    "print(df_NKI['Patient'].nunique())\n",
    "print(df_NKI['barcode'].nunique())"
   ]
  },
  {
   "cell_type": "markdown",
   "metadata": {
    "id": "Gi2c56N-yBLK"
   },
   "source": [
    "**As ID, Patient and barcode columns are unique for all the rows we have no use with them and we will discard them in next steps**"
   ]
  },
  {
   "cell_type": "markdown",
   "metadata": {
    "id": "eIm4NLxPwc-j"
   },
   "source": [
    "# **Check for data types and high level statistics.**"
   ]
  },
  {
   "cell_type": "markdown",
   "metadata": {
    "id": "aAPUVandyn2C"
   },
   "source": [
    "**We will look only till 16th column because we already know that from 17th column we have scaled gene activity numbers for every gene that are continuous**"
   ]
  },
  {
   "cell_type": "code",
   "execution_count": 6,
   "metadata": {
    "colab": {
     "base_uri": "https://localhost:8080/"
    },
    "id": "k0jxIz3zsUO_",
    "outputId": "f5d3dc36-24ea-4dc2-f529-c46b316f12e3"
   },
   "outputs": [
    {
     "data": {
      "text/plain": [
       "age                 int64\n",
       "eventdeath          int64\n",
       "survival          float64\n",
       "timerecurrence    float64\n",
       "chemo               int64\n",
       "hormonal            int64\n",
       "amputation          int64\n",
       "histtype            int64\n",
       "diam                int64\n",
       "posnodes            int64\n",
       "grade               int64\n",
       "angioinv            int64\n",
       "lymphinfil          int64\n",
       "barcode             int64\n",
       "dtype: object"
      ]
     },
     "execution_count": 6,
     "metadata": {
      "tags": []
     },
     "output_type": "execute_result"
    }
   ],
   "source": [
    "df_filtered = df_NKI.iloc[:,2:16].copy()\n",
    "df_filtered.dtypes"
   ]
  },
  {
   "cell_type": "code",
   "execution_count": 7,
   "metadata": {
    "colab": {
     "base_uri": "https://localhost:8080/",
     "height": 284
    },
    "id": "Sc_r2vi8wxXi",
    "outputId": "046c52ed-43bf-4de6-945f-7e79dc250beb"
   },
   "outputs": [
    {
     "data": {
      "text/html": [
       "<div>\n",
       "<style scoped>\n",
       "    .dataframe tbody tr th:only-of-type {\n",
       "        vertical-align: middle;\n",
       "    }\n",
       "\n",
       "    .dataframe tbody tr th {\n",
       "        vertical-align: top;\n",
       "    }\n",
       "\n",
       "    .dataframe thead th {\n",
       "        text-align: right;\n",
       "    }\n",
       "</style>\n",
       "<table border=\"1\" class=\"dataframe\">\n",
       "  <thead>\n",
       "    <tr style=\"text-align: right;\">\n",
       "      <th></th>\n",
       "      <th>age</th>\n",
       "      <th>eventdeath</th>\n",
       "      <th>survival</th>\n",
       "      <th>timerecurrence</th>\n",
       "      <th>chemo</th>\n",
       "      <th>hormonal</th>\n",
       "      <th>amputation</th>\n",
       "      <th>histtype</th>\n",
       "      <th>diam</th>\n",
       "      <th>posnodes</th>\n",
       "      <th>grade</th>\n",
       "      <th>angioinv</th>\n",
       "      <th>lymphinfil</th>\n",
       "      <th>barcode</th>\n",
       "    </tr>\n",
       "  </thead>\n",
       "  <tbody>\n",
       "    <tr>\n",
       "      <th>count</th>\n",
       "      <td>272.000000</td>\n",
       "      <td>272.000000</td>\n",
       "      <td>272.000000</td>\n",
       "      <td>272.000000</td>\n",
       "      <td>272.000000</td>\n",
       "      <td>272.000000</td>\n",
       "      <td>272.000000</td>\n",
       "      <td>272.000000</td>\n",
       "      <td>272.000000</td>\n",
       "      <td>272.000000</td>\n",
       "      <td>272.000000</td>\n",
       "      <td>272.000000</td>\n",
       "      <td>272.000000</td>\n",
       "      <td>272.000000</td>\n",
       "    </tr>\n",
       "    <tr>\n",
       "      <th>mean</th>\n",
       "      <td>44.047794</td>\n",
       "      <td>0.283088</td>\n",
       "      <td>8.080609</td>\n",
       "      <td>7.250433</td>\n",
       "      <td>0.393382</td>\n",
       "      <td>0.132353</td>\n",
       "      <td>0.441176</td>\n",
       "      <td>1.110294</td>\n",
       "      <td>22.529412</td>\n",
       "      <td>1.341912</td>\n",
       "      <td>2.128676</td>\n",
       "      <td>1.647059</td>\n",
       "      <td>1.261029</td>\n",
       "      <td>6222.783088</td>\n",
       "    </tr>\n",
       "    <tr>\n",
       "      <th>std</th>\n",
       "      <td>5.464538</td>\n",
       "      <td>0.451329</td>\n",
       "      <td>3.904874</td>\n",
       "      <td>4.177462</td>\n",
       "      <td>0.489401</td>\n",
       "      <td>0.339499</td>\n",
       "      <td>0.497443</td>\n",
       "      <td>0.545668</td>\n",
       "      <td>8.703345</td>\n",
       "      <td>2.108848</td>\n",
       "      <td>0.797821</td>\n",
       "      <td>0.876334</td>\n",
       "      <td>0.596629</td>\n",
       "      <td>645.378256</td>\n",
       "    </tr>\n",
       "    <tr>\n",
       "      <th>min</th>\n",
       "      <td>26.000000</td>\n",
       "      <td>0.000000</td>\n",
       "      <td>0.711841</td>\n",
       "      <td>0.271047</td>\n",
       "      <td>0.000000</td>\n",
       "      <td>0.000000</td>\n",
       "      <td>0.000000</td>\n",
       "      <td>1.000000</td>\n",
       "      <td>2.000000</td>\n",
       "      <td>0.000000</td>\n",
       "      <td>1.000000</td>\n",
       "      <td>1.000000</td>\n",
       "      <td>1.000000</td>\n",
       "      <td>4256.000000</td>\n",
       "    </tr>\n",
       "    <tr>\n",
       "      <th>25%</th>\n",
       "      <td>40.750000</td>\n",
       "      <td>0.000000</td>\n",
       "      <td>5.499738</td>\n",
       "      <td>4.389459</td>\n",
       "      <td>0.000000</td>\n",
       "      <td>0.000000</td>\n",
       "      <td>0.000000</td>\n",
       "      <td>1.000000</td>\n",
       "      <td>15.000000</td>\n",
       "      <td>0.000000</td>\n",
       "      <td>1.000000</td>\n",
       "      <td>1.000000</td>\n",
       "      <td>1.000000</td>\n",
       "      <td>6312.750000</td>\n",
       "    </tr>\n",
       "    <tr>\n",
       "      <th>50%</th>\n",
       "      <td>45.000000</td>\n",
       "      <td>0.000000</td>\n",
       "      <td>7.359343</td>\n",
       "      <td>6.950034</td>\n",
       "      <td>0.000000</td>\n",
       "      <td>0.000000</td>\n",
       "      <td>0.000000</td>\n",
       "      <td>1.000000</td>\n",
       "      <td>20.000000</td>\n",
       "      <td>0.000000</td>\n",
       "      <td>2.000000</td>\n",
       "      <td>1.000000</td>\n",
       "      <td>1.000000</td>\n",
       "      <td>6426.000000</td>\n",
       "    </tr>\n",
       "    <tr>\n",
       "      <th>75%</th>\n",
       "      <td>49.000000</td>\n",
       "      <td>1.000000</td>\n",
       "      <td>10.512662</td>\n",
       "      <td>9.986311</td>\n",
       "      <td>1.000000</td>\n",
       "      <td>0.000000</td>\n",
       "      <td>1.000000</td>\n",
       "      <td>1.000000</td>\n",
       "      <td>29.250000</td>\n",
       "      <td>2.000000</td>\n",
       "      <td>3.000000</td>\n",
       "      <td>3.000000</td>\n",
       "      <td>1.000000</td>\n",
       "      <td>6535.250000</td>\n",
       "    </tr>\n",
       "    <tr>\n",
       "      <th>max</th>\n",
       "      <td>53.000000</td>\n",
       "      <td>1.000000</td>\n",
       "      <td>18.340862</td>\n",
       "      <td>18.340862</td>\n",
       "      <td>1.000000</td>\n",
       "      <td>1.000000</td>\n",
       "      <td>1.000000</td>\n",
       "      <td>7.000000</td>\n",
       "      <td>50.000000</td>\n",
       "      <td>13.000000</td>\n",
       "      <td>3.000000</td>\n",
       "      <td>3.000000</td>\n",
       "      <td>3.000000</td>\n",
       "      <td>6617.000000</td>\n",
       "    </tr>\n",
       "  </tbody>\n",
       "</table>\n",
       "</div>"
      ],
      "text/plain": [
       "              age  eventdeath    survival  ...    angioinv  lymphinfil      barcode\n",
       "count  272.000000  272.000000  272.000000  ...  272.000000  272.000000   272.000000\n",
       "mean    44.047794    0.283088    8.080609  ...    1.647059    1.261029  6222.783088\n",
       "std      5.464538    0.451329    3.904874  ...    0.876334    0.596629   645.378256\n",
       "min     26.000000    0.000000    0.711841  ...    1.000000    1.000000  4256.000000\n",
       "25%     40.750000    0.000000    5.499738  ...    1.000000    1.000000  6312.750000\n",
       "50%     45.000000    0.000000    7.359343  ...    1.000000    1.000000  6426.000000\n",
       "75%     49.000000    1.000000   10.512662  ...    3.000000    1.000000  6535.250000\n",
       "max     53.000000    1.000000   18.340862  ...    3.000000    3.000000  6617.000000\n",
       "\n",
       "[8 rows x 14 columns]"
      ]
     },
     "execution_count": 7,
     "metadata": {
      "tags": []
     },
     "output_type": "execute_result"
    }
   ],
   "source": [
    "df_filtered.describe()"
   ]
  },
  {
   "cell_type": "markdown",
   "metadata": {
    "id": "Ct9X2jAtxDMc"
   },
   "source": [
    "\n",
    "\n",
    "1.   **We see that average patient's age is 44 years.Youngest patient in dataset has 26 years. Oldest patient in dataset has 53 years.**\n",
    "2.   **Average survival time of cancer in a patient is 8 years and maximum is 18 years, minimum is 7 months.**\n",
    "3.   **We see average diameter of cancer is 22.5. Maximum diameter is 50 and minimum is 2. May be high diameter represents cronic scenario. we will look at this in EDA**\n",
    "4. **All the continuous variables seems to be within known limits. So there might be no outliers in the data**\n",
    "\n"
   ]
  },
  {
   "cell_type": "markdown",
   "metadata": {
    "id": "6MIOvbJfyXPI"
   },
   "source": [
    "# **Check for Class Imbalance**"
   ]
  },
  {
   "cell_type": "code",
   "execution_count": null,
   "metadata": {
    "colab": {
     "base_uri": "https://localhost:8080/",
     "height": 296
    },
    "id": "fJGgi-4h0xjO",
    "outputId": "1f378a5d-328a-459f-f616-10b6f6c6ccfe"
   },
   "outputs": [
    {
     "data": {
      "text/plain": [
       "<matplotlib.axes._subplots.AxesSubplot at 0x7f1c09c880d0>"
      ]
     },
     "execution_count": 56,
     "metadata": {
      "tags": []
     },
     "output_type": "execute_result"
    },
    {
     "data": {
      "image/png": "[encoded data removed]",
      "text/plain": [
       "<Figure size 432x288 with 1 Axes>"
      ]
     },
     "metadata": {
      "needs_background": "light",
      "tags": []
     },
     "output_type": "display_data"
    }
   ],
   "source": [
    "sns.countplot(x = 'eventdeath', hue=\"eventdeath\", data = df_NKI)"
   ]
  },
  {
   "cell_type": "markdown",
   "metadata": {
    "id": "p_zXWqsv2bq_"
   },
   "source": [
    "**There is clear class imbalance**"
   ]
  },
  {
   "cell_type": "code",
   "execution_count": 8,
   "metadata": {
    "colab": {
     "base_uri": "https://localhost:8080/"
    },
    "id": "rs96PTub1wV4",
    "outputId": "3a86e5e7-7b43-4271-a968-fc66c813de1f"
   },
   "outputs": [
    {
     "name": "stdout",
     "output_type": "stream",
     "text": [
      "Only 28.308823529411764 % of data contains 1 label\n"
     ]
    }
   ],
   "source": [
    "Percent_death = (df_NKI.loc[df_NKI['eventdeath']==1].shape[0]/df_NKI.shape[0])*100\n",
    "print('Only',Percent_death,'% of data contains 1 label')"
   ]
  },
  {
   "cell_type": "markdown",
   "metadata": {
    "id": "TF_p_SeE3J-s"
   },
   "source": [
    "# **Graphical analysis**"
   ]
  },
  {
   "cell_type": "markdown",
   "metadata": {
    "id": "SH-bMJ6Z6ULP"
   },
   "source": [
    "**Check if Age affects the death in case of breast canncer**"
   ]
  },
  {
   "cell_type": "code",
   "execution_count": null,
   "metadata": {
    "colab": {
     "base_uri": "https://localhost:8080/",
     "height": 434
    },
    "id": "vuiFsmri1lxT",
    "outputId": "b8c5a700-167e-4d45-ac0c-55ee2a44327e"
   },
   "outputs": [
    {
     "name": "stderr",
     "output_type": "stream",
     "text": [
      "/usr/local/lib/python3.7/dist-packages/seaborn/axisgrid.py:316: UserWarning: The `size` parameter has been renamed to `height`; please update your code.\n",
      "  warnings.warn(msg, UserWarning)\n",
      "/usr/local/lib/python3.7/dist-packages/seaborn/distributions.py:2557: FutureWarning: `distplot` is a deprecated function and will be removed in a future version. Please adapt your code to use either `displot` (a figure-level function with similar flexibility) or `kdeplot` (an axes-level function for kernel density plots).\n",
      "  warnings.warn(msg, FutureWarning)\n",
      "/usr/local/lib/python3.7/dist-packages/seaborn/distributions.py:2557: FutureWarning: `distplot` is a deprecated function and will be removed in a future version. Please adapt your code to use either `displot` (a figure-level function with similar flexibility) or `kdeplot` (an axes-level function for kernel density plots).\n",
      "  warnings.warn(msg, FutureWarning)\n"
     ]
    },
    {
     "data": {
      "text/plain": [
       "<seaborn.axisgrid.FacetGrid at 0x7f1c06695d10>"
      ]
     },
     "execution_count": 78,
     "metadata": {
      "tags": []
     },
     "output_type": "execute_result"
    },
    {
     "data": {
      "image/png": "[encoded data removed]",
      "text/plain": [
       "<Figure size 353.25x288 with 1 Axes>"
      ]
     },
     "metadata": {
      "needs_background": "light",
      "tags": []
     },
     "output_type": "display_data"
    }
   ],
   "source": [
    "sns.FacetGrid(df_NKI, hue = 'eventdeath', size=4).map(sns.distplot, 'age', hist=False).add_legend()"
   ]
  },
  {
   "cell_type": "markdown",
   "metadata": {
    "id": "naK1rm727bhe"
   },
   "source": [
    "\n",
    "\n",
    "1.   *We cannot make any clear distinction between 0 and 1 claases*\n",
    "2.   *But it is interesting to see that from 25 years to 38 years, probability of death of patient is slightly more than probability of being alive.*\n",
    "3.*From 38 years to 53 years the pattern slightly changes and probability of patient being alive is more than prob. of death.*\n",
    "4. *This is interesting because generally we think that young people would have slightly less probability of death. But it is otherwise here.*\n",
    "5. *May be other factors like diameter of cancer, gene factors etc have lot of influence *\n",
    "\n"
   ]
  },
  {
   "cell_type": "markdown",
   "metadata": {
    "id": "urahMLim9aWM"
   },
   "source": [
    "**Check if diameter of cancer affetcs the death**"
   ]
  },
  {
   "cell_type": "code",
   "execution_count": null,
   "metadata": {
    "colab": {
     "base_uri": "https://localhost:8080/",
     "height": 434
    },
    "id": "G2LuoKev9Y9b",
    "outputId": "b9864b19-b5d5-4012-f25e-c907e9f581b2"
   },
   "outputs": [
    {
     "name": "stderr",
     "output_type": "stream",
     "text": [
      "/usr/local/lib/python3.7/dist-packages/seaborn/axisgrid.py:316: UserWarning: The `size` parameter has been renamed to `height`; please update your code.\n",
      "  warnings.warn(msg, UserWarning)\n",
      "/usr/local/lib/python3.7/dist-packages/seaborn/distributions.py:2557: FutureWarning: `distplot` is a deprecated function and will be removed in a future version. Please adapt your code to use either `displot` (a figure-level function with similar flexibility) or `kdeplot` (an axes-level function for kernel density plots).\n",
      "  warnings.warn(msg, FutureWarning)\n",
      "/usr/local/lib/python3.7/dist-packages/seaborn/distributions.py:2557: FutureWarning: `distplot` is a deprecated function and will be removed in a future version. Please adapt your code to use either `displot` (a figure-level function with similar flexibility) or `kdeplot` (an axes-level function for kernel density plots).\n",
      "  warnings.warn(msg, FutureWarning)\n"
     ]
    },
    {
     "data": {
      "text/plain": [
       "<seaborn.axisgrid.FacetGrid at 0x7f1c05e97a10>"
      ]
     },
     "execution_count": 79,
     "metadata": {
      "tags": []
     },
     "output_type": "execute_result"
    },
    {
     "data": {
      "image/png": "[encoded data removed]",
      "text/plain": [
       "<Figure size 353.25x288 with 1 Axes>"
      ]
     },
     "metadata": {
      "needs_background": "light",
      "tags": []
     },
     "output_type": "display_data"
    }
   ],
   "source": [
    "sns.FacetGrid(df_NKI, hue = 'eventdeath', size=4).map(sns.distplot, 'diam', hist=False).add_legend()"
   ]
  },
  {
   "cell_type": "markdown",
   "metadata": {
    "id": "M0EDIIyy_XYJ"
   },
   "source": [
    "\n",
    "\n",
    "1.   *Even here we cannot make proper distiction between 0 and 1 classes*\n",
    "\n",
    "1.   *But we can see that if diameter of cancer is more then probability of death is slightly more*\n",
    "2.   *From diamter 25 to 60, the probability of death is slightly more than probability of being alive.*\n",
    "4. *This is as per our inference that if diameter is more then it might be chronic case*\n",
    "\n",
    "\n"
   ]
  },
  {
   "cell_type": "markdown",
   "metadata": {
    "id": "80rjSlj0UKix"
   },
   "source": [
    "**Check if esr1 Gene affects the survival**"
   ]
  },
  {
   "cell_type": "code",
   "execution_count": null,
   "metadata": {
    "colab": {
     "base_uri": "https://localhost:8080/",
     "height": 434
    },
    "id": "QzpnePbKUJ6R",
    "outputId": "a21fd5b0-5cf0-46e4-fa8f-20658e46950b"
   },
   "outputs": [
    {
     "name": "stderr",
     "output_type": "stream",
     "text": [
      "/usr/local/lib/python3.7/dist-packages/seaborn/axisgrid.py:316: UserWarning: The `size` parameter has been renamed to `height`; please update your code.\n",
      "  warnings.warn(msg, UserWarning)\n",
      "/usr/local/lib/python3.7/dist-packages/seaborn/distributions.py:2557: FutureWarning: `distplot` is a deprecated function and will be removed in a future version. Please adapt your code to use either `displot` (a figure-level function with similar flexibility) or `kdeplot` (an axes-level function for kernel density plots).\n",
      "  warnings.warn(msg, FutureWarning)\n",
      "/usr/local/lib/python3.7/dist-packages/seaborn/distributions.py:2557: FutureWarning: `distplot` is a deprecated function and will be removed in a future version. Please adapt your code to use either `displot` (a figure-level function with similar flexibility) or `kdeplot` (an axes-level function for kernel density plots).\n",
      "  warnings.warn(msg, FutureWarning)\n"
     ]
    },
    {
     "data": {
      "text/plain": [
       "<seaborn.axisgrid.FacetGrid at 0x7f1c06655990>"
      ]
     },
     "execution_count": 80,
     "metadata": {
      "tags": []
     },
     "output_type": "execute_result"
    },
    {
     "data": {
      "image/png": "[encoded data removed]",
      "text/plain": [
       "<Figure size 353.25x288 with 1 Axes>"
      ]
     },
     "metadata": {
      "needs_background": "light",
      "tags": []
     },
     "output_type": "display_data"
    }
   ],
   "source": [
    "sns.FacetGrid(df_NKI, hue = 'eventdeath', size=4).map(sns.distplot, 'esr1', hist=False).add_legend()"
   ]
  },
  {
   "cell_type": "markdown",
   "metadata": {
    "id": "ZlXcVi55Ub7U"
   },
   "source": [
    "\n",
    "\n",
    "1.  *Here we can see that if activity of this gene is less i.e < -0.5 the probability of survival is very less when compared to probability of being alive*\n",
    "2.   *When the activity is >0.5 then probability of survival is high*\n",
    "\n"
   ]
  },
  {
   "cell_type": "markdown",
   "metadata": {
    "id": "xDzGgENcZGup"
   },
   "source": [
    "**Check if treatment like chemo/harmonal/amputation has any impact on survival**"
   ]
  },
  {
   "cell_type": "code",
   "execution_count": null,
   "metadata": {
    "colab": {
     "base_uri": "https://localhost:8080/",
     "height": 1000
    },
    "id": "-FC3n4EhYhjt",
    "outputId": "b7709ce5-162c-42ab-ec6e-f3f02f766cce"
   },
   "outputs": [
    {
     "name": "stderr",
     "output_type": "stream",
     "text": [
      "/usr/local/lib/python3.7/dist-packages/seaborn/axisgrid.py:316: UserWarning: The `size` parameter has been renamed to `height`; please update your code.\n",
      "  warnings.warn(msg, UserWarning)\n",
      "/usr/local/lib/python3.7/dist-packages/seaborn/distributions.py:2557: FutureWarning: `distplot` is a deprecated function and will be removed in a future version. Please adapt your code to use either `displot` (a figure-level function with similar flexibility) or `kdeplot` (an axes-level function for kernel density plots).\n",
      "  warnings.warn(msg, FutureWarning)\n",
      "/usr/local/lib/python3.7/dist-packages/seaborn/distributions.py:2557: FutureWarning: `distplot` is a deprecated function and will be removed in a future version. Please adapt your code to use either `displot` (a figure-level function with similar flexibility) or `kdeplot` (an axes-level function for kernel density plots).\n",
      "  warnings.warn(msg, FutureWarning)\n",
      "/usr/local/lib/python3.7/dist-packages/seaborn/axisgrid.py:316: UserWarning: The `size` parameter has been renamed to `height`; please update your code.\n",
      "  warnings.warn(msg, UserWarning)\n",
      "/usr/local/lib/python3.7/dist-packages/seaborn/distributions.py:2557: FutureWarning: `distplot` is a deprecated function and will be removed in a future version. Please adapt your code to use either `displot` (a figure-level function with similar flexibility) or `kdeplot` (an axes-level function for kernel density plots).\n",
      "  warnings.warn(msg, FutureWarning)\n",
      "/usr/local/lib/python3.7/dist-packages/seaborn/distributions.py:2557: FutureWarning: `distplot` is a deprecated function and will be removed in a future version. Please adapt your code to use either `displot` (a figure-level function with similar flexibility) or `kdeplot` (an axes-level function for kernel density plots).\n",
      "  warnings.warn(msg, FutureWarning)\n",
      "/usr/local/lib/python3.7/dist-packages/seaborn/axisgrid.py:316: UserWarning: The `size` parameter has been renamed to `height`; please update your code.\n",
      "  warnings.warn(msg, UserWarning)\n",
      "/usr/local/lib/python3.7/dist-packages/seaborn/distributions.py:2557: FutureWarning: `distplot` is a deprecated function and will be removed in a future version. Please adapt your code to use either `displot` (a figure-level function with similar flexibility) or `kdeplot` (an axes-level function for kernel density plots).\n",
      "  warnings.warn(msg, FutureWarning)\n",
      "/usr/local/lib/python3.7/dist-packages/seaborn/distributions.py:2557: FutureWarning: `distplot` is a deprecated function and will be removed in a future version. Please adapt your code to use either `displot` (a figure-level function with similar flexibility) or `kdeplot` (an axes-level function for kernel density plots).\n",
      "  warnings.warn(msg, FutureWarning)\n"
     ]
    },
    {
     "data": {
      "image/png": "[encoded data removed]",
      "text/plain": [
       "<Figure size 353.25x288 with 1 Axes>"
      ]
     },
     "metadata": {
      "needs_background": "light",
      "tags": []
     },
     "output_type": "display_data"
    },
    {
     "data": {
      "image/png": "[encoded data removed]",
      "text/plain": [
       "<Figure size 353.25x288 with 1 Axes>"
      ]
     },
     "metadata": {
      "needs_background": "light",
      "tags": []
     },
     "output_type": "display_data"
    },
    {
     "data": {
      "image/png": "[encoded data removed]",
      "text/plain": [
       "<Figure size 353.25x288 with 1 Axes>"
      ]
     },
     "metadata": {
      "needs_background": "light",
      "tags": []
     },
     "output_type": "display_data"
    }
   ],
   "source": [
    "ax1= sns.FacetGrid(df_NKI, hue = 'eventdeath', size=4).map(sns.distplot, 'chemo', hist=False).add_legend()\n",
    "ax2= sns.FacetGrid(df_NKI, hue = 'eventdeath', size=4).map(sns.distplot, 'hormonal', hist=False).add_legend()\n",
    "ax3= sns.FacetGrid(df_NKI, hue = 'eventdeath', size=4).map(sns.distplot, 'amputation', hist=False).add_legend()\n",
    "plt.show()"
   ]
  },
  {
   "cell_type": "markdown",
   "metadata": {
    "id": "sIVL7R8TguYN"
   },
   "source": [
    "\n",
    "\n",
    "1.   *From above 3 plots we can see that there is slightly more probability of survival when chemo/hormonal theraphy is done.*\n",
    "2.   *But when it comes to amputation, PDF's are almost overlapping. That means even if amputation is done we cannot say if patient would survive or not. May be this is because amputation is the last resort to be done at advanced stages*\n",
    "\n",
    "\n"
   ]
  },
  {
   "cell_type": "markdown",
   "metadata": {
    "id": "jKmqyoh6h26p"
   },
   "source": [
    "**Check if grade affects the survival**"
   ]
  },
  {
   "cell_type": "code",
   "execution_count": null,
   "metadata": {
    "colab": {
     "base_uri": "https://localhost:8080/",
     "height": 434
    },
    "id": "UOUeXQ2cbKia",
    "outputId": "77b36a64-4bff-4ea5-9b2f-706b38e58edc"
   },
   "outputs": [
    {
     "name": "stderr",
     "output_type": "stream",
     "text": [
      "/usr/local/lib/python3.7/dist-packages/seaborn/axisgrid.py:316: UserWarning: The `size` parameter has been renamed to `height`; please update your code.\n",
      "  warnings.warn(msg, UserWarning)\n",
      "/usr/local/lib/python3.7/dist-packages/seaborn/distributions.py:2557: FutureWarning: `distplot` is a deprecated function and will be removed in a future version. Please adapt your code to use either `displot` (a figure-level function with similar flexibility) or `kdeplot` (an axes-level function for kernel density plots).\n",
      "  warnings.warn(msg, FutureWarning)\n",
      "/usr/local/lib/python3.7/dist-packages/seaborn/distributions.py:2557: FutureWarning: `distplot` is a deprecated function and will be removed in a future version. Please adapt your code to use either `displot` (a figure-level function with similar flexibility) or `kdeplot` (an axes-level function for kernel density plots).\n",
      "  warnings.warn(msg, FutureWarning)\n"
     ]
    },
    {
     "data": {
      "text/plain": [
       "<seaborn.axisgrid.FacetGrid at 0x7f1c06f39c50>"
      ]
     },
     "execution_count": 91,
     "metadata": {
      "tags": []
     },
     "output_type": "execute_result"
    },
    {
     "data": {
      "image/png": "[encoded data removed]",
      "text/plain": [
       "<Figure size 353.25x288 with 1 Axes>"
      ]
     },
     "metadata": {
      "needs_background": "light",
      "tags": []
     },
     "output_type": "display_data"
    }
   ],
   "source": [
    "sns.FacetGrid(df_NKI, hue = 'eventdeath', size=4).map(sns.distplot, 'grade', hist=False).add_legend()"
   ]
  },
  {
   "cell_type": "markdown",
   "metadata": {
    "id": "e3fcGBCsh_UO"
   },
   "source": [
    "*We can clearly see that if grade if grade of cancer 3 then probability of survival is less. When grade is 1 then probability of survivl is more.If grade is 2 then the PDF'S are overlapping. it means survival and death are equiprobable. So higher the grade more chronic is the disease*"
   ]
  },
  {
   "cell_type": "code",
   "execution_count": 157,
   "metadata": {
    "colab": {
     "base_uri": "https://localhost:8080/",
     "height": 434
    },
    "id": "lu16GsEtaxzO",
    "outputId": "904b1157-b4aa-457a-85f6-770167b07853"
   },
   "outputs": [
    {
     "name": "stderr",
     "output_type": "stream",
     "text": [
      "/usr/local/lib/python3.7/dist-packages/seaborn/axisgrid.py:316: UserWarning: The `size` parameter has been renamed to `height`; please update your code.\n",
      "  warnings.warn(msg, UserWarning)\n",
      "/usr/local/lib/python3.7/dist-packages/seaborn/distributions.py:2557: FutureWarning: `distplot` is a deprecated function and will be removed in a future version. Please adapt your code to use either `displot` (a figure-level function with similar flexibility) or `kdeplot` (an axes-level function for kernel density plots).\n",
      "  warnings.warn(msg, FutureWarning)\n",
      "/usr/local/lib/python3.7/dist-packages/seaborn/distributions.py:2557: FutureWarning: `distplot` is a deprecated function and will be removed in a future version. Please adapt your code to use either `displot` (a figure-level function with similar flexibility) or `kdeplot` (an axes-level function for kernel density plots).\n",
      "  warnings.warn(msg, FutureWarning)\n"
     ]
    },
    {
     "data": {
      "text/plain": [
       "<seaborn.axisgrid.FacetGrid at 0x7fe9ecb55a10>"
      ]
     },
     "execution_count": 157,
     "metadata": {
      "tags": []
     },
     "output_type": "execute_result"
    },
    {
     "data": {
      "image/png": "[encoded data removed]",
      "text/plain": [
       "<Figure size 353.25x288 with 1 Axes>"
      ]
     },
     "metadata": {
      "needs_background": "light",
      "tags": []
     },
     "output_type": "display_data"
    }
   ],
   "source": [
    "sns.FacetGrid(df_NKI, hue = 'eventdeath', size=4).map(sns.distplot, 'angioinv', hist=False).add_legend()"
   ]
  },
  {
   "cell_type": "markdown",
   "metadata": {
    "id": "-NquLsQBnOMM"
   },
   "source": [
    "*The above plot shows that if angioinv(how blood vessels are afected) is 1 which might be less affected then probability of survival is more than probability of death. If it is 3 which might be advanced stage then prob of death is slightly more.*"
   ]
  },
  {
   "cell_type": "markdown",
   "metadata": {
    "id": "wr4tuKlWARr5"
   },
   "source": [
    "**Bivariate analysis of ESR1 gene and Diameter**"
   ]
  },
  {
   "cell_type": "code",
   "execution_count": null,
   "metadata": {
    "colab": {
     "base_uri": "https://localhost:8080/",
     "height": 474
    },
    "id": "NctKRP866j8H",
    "outputId": "6f5c30d5-6094-4b0a-cd03-85b9b79ad4d5"
   },
   "outputs": [
    {
     "name": "stderr",
     "output_type": "stream",
     "text": [
      "/usr/local/lib/python3.7/dist-packages/seaborn/axisgrid.py:316: UserWarning: The `size` parameter has been renamed to `height`; please update your code.\n",
      "  warnings.warn(msg, UserWarning)\n"
     ]
    },
    {
     "data": {
      "image/png": "[encoded data removed]",
      "text/plain": [
       "<Figure size 497.25x432 with 1 Axes>"
      ]
     },
     "metadata": {
      "needs_background": "light",
      "tags": []
     },
     "output_type": "display_data"
    }
   ],
   "source": [
    "sns.FacetGrid(df_NKI, hue = 'eventdeath', size=6).map(plt.scatter, 'diam', 'esr1').add_legend()"
   ]
  },
  {
   "cell_type": "markdown",
   "metadata": {
    "id": "DoDiQJmbUBkt"
   },
   "source": [
    "\n",
    "\n",
    "1.   *From above plot we can see that there is more density of blue points i.e survival when esr1>-0.5 and diamter of cancer is less than 25.*\n",
    "2.   *Though the plot is scattered a lot, there is some good chances of survival when diameter of cancer is less and ESR gene activity is high*"
   ]
  },
  {
   "cell_type": "markdown",
   "metadata": {
    "id": "ksKjaG4Oi-1-"
   },
   "source": [
    "# **Predictive modelling**"
   ]
  },
  {
   "cell_type": "markdown",
   "metadata": {
    "id": "KSmI4-pvQZgX"
   },
   "source": [
    "**Train test split**"
   ]
  },
  {
   "cell_type": "code",
   "execution_count": 43,
   "metadata": {
    "id": "CwpBAkS4HJaG"
   },
   "outputs": [],
   "source": [
    "# data splitting\n",
    "X = df_NKI.drop(['Patient', 'ID', 'eventdeath', 'barcode'], axis=1)\n",
    "y = df_NKI['eventdeath']\n",
    "X_filter = X.iloc[:,:12]\n",
    "X_train, X_test, y_train, y_test = train_test_split(X_filter, y, test_size=0.3, random_state=42)"
   ]
  },
  {
   "cell_type": "markdown",
   "metadata": {
    "id": "FJg7wZEeWmJW"
   },
   "source": [
    "*Here we removed Gene information because it is reducing the accuracy/F1 score of the model*"
   ]
  },
  {
   "cell_type": "markdown",
   "metadata": {
    "id": "Z80k-8M5SgqE"
   },
   "source": [
    "**Tackle Class imbalance**"
   ]
  },
  {
   "cell_type": "code",
   "execution_count": 57,
   "metadata": {
    "id": "6uQkdAGjHwlJ"
   },
   "outputs": [],
   "source": [
    " def class_imbalance(type_, X,Y):\n",
    "    if type_ == 'over_sample':\n",
    "        oversample = RandomOverSampler(sampling_strategy=0.8)\n",
    "        X_over, y_over = oversample.fit_resample(X,Y)\n",
    "        return X_over, y_over\n",
    "    elif type_ == 'SMOTE':\n",
    "        over = SMOTE(sampling_strategy=0.8)\n",
    "        X_over, y_over = over.fit_resample(X,Y)\n",
    "        return X_over, y_over"
   ]
  },
  {
   "cell_type": "code",
   "execution_count": 58,
   "metadata": {
    "colab": {
     "base_uri": "https://localhost:8080/"
    },
    "id": "fHVFidVoJe73",
    "outputId": "63324899-7b9a-477b-f38b-3bcd65bcce14"
   },
   "outputs": [
    {
     "name": "stderr",
     "output_type": "stream",
     "text": [
      "/usr/local/lib/python3.7/dist-packages/sklearn/utils/deprecation.py:87: FutureWarning: Function safe_indexing is deprecated; safe_indexing is deprecated in version 0.22 and will be removed in version 0.24.\n",
      "  warnings.warn(msg, category=FutureWarning)\n",
      "/usr/local/lib/python3.7/dist-packages/sklearn/utils/deprecation.py:87: FutureWarning: Function safe_indexing is deprecated; safe_indexing is deprecated in version 0.22 and will be removed in version 0.24.\n",
      "  warnings.warn(msg, category=FutureWarning)\n"
     ]
    }
   ],
   "source": [
    "X_train_os, y_train_os = class_imbalance('over_sample', X_train, y_train)"
   ]
  },
  {
   "cell_type": "markdown",
   "metadata": {
    "id": "3eo5GeiUSmns"
   },
   "source": [
    "**Confusion matrix is very important for imbalanced datasets.Below function plots Confusion matrix**"
   ]
  },
  {
   "cell_type": "code",
   "execution_count": 47,
   "metadata": {
    "id": "CSDFh1KyOOij"
   },
   "outputs": [],
   "source": [
    "def plot_confusionMatrix(cm, classes, cmap, title):\n",
    "    \n",
    "    cm = cm.astype('float') / cm.sum(axis=1)[:, np.newaxis]\n",
    "    \n",
    "    tick_marks = np.arange(len(classes))\n",
    "    plt.imshow(cm, interpolation='nearest', cmap=cmap)\n",
    "    plt.title(title)\n",
    "    plt.colorbar()\n",
    "    \n",
    "    plt.xticks(tick_marks, classes, rotation=90)\n",
    "    plt.yticks(tick_marks, classes)\n",
    "    \n",
    "    #fmt = '.2f' if normalize else 'd'\n",
    "    thresh = cm.max() / 2.\n",
    "    \n",
    "    for i, j in itertools.product(range(cm.shape[0]), range(cm.shape[1])):\n",
    "        plt.text(j, i, format(cm[i, j], '.2f'),\n",
    "        horizontalalignment=\"center\",\n",
    "        color=\"white\" if cm[i, j] > thresh else \"black\")\n",
    "        \n",
    "    plt.tight_layout()\n",
    "    plt.ylabel('True label')\n",
    "    plt.xlabel('Predicted label')\n"
   ]
  },
  {
   "cell_type": "markdown",
   "metadata": {
    "id": "riUal8ETS09Z"
   },
   "source": [
    "**Below function trains the model and predicts for test dataset and returns metrics**"
   ]
  },
  {
   "cell_type": "code",
   "execution_count": 52,
   "metadata": {
    "id": "u4G2F6XoKfzF"
   },
   "outputs": [],
   "source": [
    "def perform_model(model, X_train, Y_train, X_test, Y_test, class_labels):\n",
    "    \n",
    "    results = dict()\n",
    "    \n",
    "    model.fit(X_train, Y_train)\n",
    "    Y_pred = model.predict(X_test.values)\n",
    "\n",
    "    results['predicted'] = Y_pred\n",
    "    \n",
    "    accuracy = metrics.accuracy_score(y_true=Y_test, y_pred=Y_pred)\n",
    "    results['accuracy'] = accuracy\n",
    "    \n",
    "    cm = metrics.confusion_matrix(Y_test, Y_pred) \n",
    "    results['confusion_Matrix'] = cm \n",
    "    \n",
    "    plt.figure(figsize=(8,8)) \n",
    "    plot_confusionMatrix(cm, class_labels, plt.cm.Blues, 'Confusion matrix') \n",
    "    plt.show()\n",
    "    \n",
    "    classification_report = metrics.classification_report(Y_test, Y_pred)\n",
    "    print(classification_report)\n",
    "    # store report in results\n",
    "    results['classification_report'] = classification_report    \n",
    "    \n",
    "    results['model'] = model\n",
    "       \n",
    "    return results"
   ]
  },
  {
   "cell_type": "code",
   "execution_count": 49,
   "metadata": {
    "id": "v7ZkYJDuOqcd"
   },
   "outputs": [],
   "source": [
    "def print_grid_search_attributes(model):\n",
    "    \n",
    "    print('|      Best Estimator     |')\n",
    "    print('--------------------------')\n",
    "    print('\\n\\t{}\\n'.format(model.best_estimator_))\n",
    "    \n",
    "    print('|     Best parameters     |')\n",
    "    print('--------------------------')\n",
    "    print('\\tParameters of best estimator : \\n\\n\\t{}\\n'.format(model.best_params_))\n",
    " \n",
    "    \n",
    "    print('--------------------------')\n",
    "    print('\\n\\tAverage Cross Validate scores of best estimator : \\n\\n\\t{}\\n'.format(model.best_score_))"
   ]
  },
  {
   "cell_type": "code",
   "execution_count": 50,
   "metadata": {
    "id": "cQRMd7WiO0n7"
   },
   "outputs": [],
   "source": [
    "labels = [0,1]"
   ]
  },
  {
   "cell_type": "markdown",
   "metadata": {
    "id": "wloO2XRzZaFj"
   },
   "source": [
    "**XG Boost Model**"
   ]
  },
  {
   "cell_type": "code",
   "execution_count": 175,
   "metadata": {
    "colab": {
     "base_uri": "https://localhost:8080/",
     "height": 803
    },
    "id": "JTbvZ1gxOW1L",
    "outputId": "ef185739-b3dd-4b70-a96f-cd82018f214e"
   },
   "outputs": [
    {
     "name": "stdout",
     "output_type": "stream",
     "text": [
      "Fitting 3 folds for each of 120 candidates, totalling 360 fits\n"
     ]
    },
    {
     "name": "stderr",
     "output_type": "stream",
     "text": [
      "[Parallel(n_jobs=-1)]: Using backend LokyBackend with 2 concurrent workers.\n",
      "[Parallel(n_jobs=-1)]: Done 164 tasks      | elapsed:    3.9s\n",
      "[Parallel(n_jobs=-1)]: Done 360 out of 360 | elapsed:    9.1s finished\n"
     ]
    },
    {
     "data": {
      "image/png": "[encoded data removed]",
      "text/plain": [
       "<Figure size 576x576 with 2 Axes>"
      ]
     },
     "metadata": {
      "needs_background": "light",
      "tags": []
     },
     "output_type": "display_data"
    },
    {
     "name": "stdout",
     "output_type": "stream",
     "text": [
      "              precision    recall  f1-score   support\n",
      "\n",
      "           0       0.98      0.93      0.96        59\n",
      "           1       0.85      0.96      0.90        23\n",
      "\n",
      "    accuracy                           0.94        82\n",
      "   macro avg       0.91      0.94      0.93        82\n",
      "weighted avg       0.94      0.94      0.94        82\n",
      "\n"
     ]
    }
   ],
   "source": [
    "parameters = {'eta':[0.1,0.2,0.4,0.6,0.8], 'n_estimators':[50,100,150,200,300,400], 'colsample_bytree':[0.5,0.6,0.8,1]}\n",
    "xgb_clf = XGBClassifier()\n",
    "xgb_clf_grid = GridSearchCV(xgb_clf, param_grid=parameters, cv=3, verbose=1, n_jobs=-1)\n",
    "xgb_clf_grid_results =  perform_model(xgb_clf_grid, X_train_os, y_train_os, X_test, y_test, labels)"
   ]
  },
  {
   "cell_type": "markdown",
   "metadata": {
    "id": "cFE6LxsMcd3_"
   },
   "source": [
    "**Best Estimator**"
   ]
  },
  {
   "cell_type": "code",
   "execution_count": 178,
   "metadata": {
    "colab": {
     "base_uri": "https://localhost:8080/"
    },
    "id": "H-DVSGE_Lkda",
    "outputId": "add263e4-aa13-4428-a41b-539de797b473"
   },
   "outputs": [
    {
     "name": "stdout",
     "output_type": "stream",
     "text": [
      "|      Best Estimator     |\n",
      "--------------------------\n",
      "\n",
      "\tXGBClassifier(base_score=0.5, booster='gbtree', colsample_bylevel=1,\n",
      "              colsample_bynode=1, colsample_bytree=1, eta=0.1, gamma=0,\n",
      "              learning_rate=0.1, max_delta_step=0, max_depth=3,\n",
      "              min_child_weight=1, missing=None, n_estimators=100, n_jobs=1,\n",
      "              nthread=None, objective='binary:logistic', random_state=0,\n",
      "              reg_alpha=0, reg_lambda=1, scale_pos_weight=1, seed=None,\n",
      "              silent=None, subsample=1, verbosity=1)\n",
      "\n",
      "|     Best parameters     |\n",
      "--------------------------\n",
      "\tParameters of best estimator : \n",
      "\n",
      "\t{'colsample_bytree': 1, 'eta': 0.1, 'n_estimators': 100}\n",
      "\n",
      "--------------------------\n",
      "\n",
      "\tAverage Cross Validate scores of best estimator : \n",
      "\n",
      "\t0.9345578640971595\n",
      "\n"
     ]
    }
   ],
   "source": [
    "print_grid_search_attributes(xgb_clf_grid)"
   ]
  },
  {
   "cell_type": "markdown",
   "metadata": {
    "id": "-iqfrB-oc2h6"
   },
   "source": [
    " \n",
    "\n",
    "1.   **XGBoost gave us better accuracy and F1 score than Logistic regression.**\n",
    "2.   **The Train and test metrics does'nt differ much so no overfitting problems.**\n",
    "3.**But it is important to note that, If we include gene information the accuracy is getting reduced to good extent. It might be because of small data and the model is unable to identify complex patterns in small data**"
   ]
  },
  {
   "cell_type": "markdown",
   "metadata": {
    "id": "2RcNaBmtdl91"
   },
   "source": [
    "# **Now we look into some distance based algorithms like KNN and SVM. For distance based algorithms scaling is most important factor**"
   ]
  },
  {
   "cell_type": "markdown",
   "metadata": {
    "id": "NEiF1fJidoyX"
   },
   "source": [
    "**Feature scaling on train data**"
   ]
  },
  {
   "cell_type": "code",
   "execution_count": 16,
   "metadata": {
    "id": "lg7agYptczW4"
   },
   "outputs": [],
   "source": [
    "scaled_features = X_train[['age', 'survival', 'timerecurrence', 'diam']].copy()\n",
    "scaler = StandardScaler()\n",
    "scaler.fit(scaled_features)\n",
    "scaled_features_train = scaler.transform(scaled_features)"
   ]
  },
  {
   "cell_type": "markdown",
   "metadata": {
    "id": "gZaPeDmskmgQ"
   },
   "source": [
    "**One hot encoding on discrete data**"
   ]
  },
  {
   "cell_type": "code",
   "execution_count": 17,
   "metadata": {
    "id": "we0luZhafdDl"
   },
   "outputs": [],
   "source": [
    "one_hot_features = X_train[['histtype', 'posnodes', 'grade', 'angioinv', 'lymphinfil']].copy()\n",
    "enc = OneHotEncoder(handle_unknown='ignore')\n",
    "enc.fit(one_hot_features)\n",
    "one_hot_features = enc.transform(one_hot_features)"
   ]
  },
  {
   "cell_type": "code",
   "execution_count": 18,
   "metadata": {
    "id": "6pkGUc_FgnGj"
   },
   "outputs": [],
   "source": [
    "rest_features = X_train[['chemo', 'hormonal', 'amputation']].copy().values"
   ]
  },
  {
   "cell_type": "code",
   "execution_count": 19,
   "metadata": {
    "colab": {
     "base_uri": "https://localhost:8080/"
    },
    "id": "CktVA61RiaCZ",
    "outputId": "0a054523-ebfe-409c-f4cf-0a8729543631"
   },
   "outputs": [
    {
     "data": {
      "text/plain": [
       "(190, 30)"
      ]
     },
     "execution_count": 19,
     "metadata": {
      "tags": []
     },
     "output_type": "execute_result"
    }
   ],
   "source": [
    "final_train = np.hstack((scaled_features_train, one_hot_features.toarray(), rest_features))\n",
    "final_train.shape"
   ]
  },
  {
   "cell_type": "code",
   "execution_count": 33,
   "metadata": {
    "colab": {
     "base_uri": "https://localhost:8080/"
    },
    "id": "2qRmRxEfTT6A",
    "outputId": "30f15a39-5e8c-49bb-852e-829a829bc8a6"
   },
   "outputs": [
    {
     "name": "stderr",
     "output_type": "stream",
     "text": [
      "/usr/local/lib/python3.7/dist-packages/sklearn/utils/deprecation.py:87: FutureWarning: Function safe_indexing is deprecated; safe_indexing is deprecated in version 0.22 and will be removed in version 0.24.\n",
      "  warnings.warn(msg, category=FutureWarning)\n"
     ]
    }
   ],
   "source": [
    "X_train_os, y_train_os = class_imbalance('over_sample', final_train, y_train)"
   ]
  },
  {
   "cell_type": "markdown",
   "metadata": {
    "id": "7Nro3OwKkOBk"
   },
   "source": [
    "**Transforming Test Data**"
   ]
  },
  {
   "cell_type": "code",
   "execution_count": 21,
   "metadata": {
    "colab": {
     "base_uri": "https://localhost:8080/"
    },
    "id": "p3SoBexeLvfR",
    "outputId": "03ce14ac-20bf-4f78-c976-df0af4962713"
   },
   "outputs": [
    {
     "data": {
      "text/plain": [
       "(82, 30)"
      ]
     },
     "execution_count": 21,
     "metadata": {
      "tags": []
     },
     "output_type": "execute_result"
    }
   ],
   "source": [
    "scaled_features_test = X_test[['age', 'survival', 'timerecurrence', 'diam']].copy()\n",
    "scaled_features_test = scaler.transform(scaled_features_test)\n",
    "one_hot_features_test = X_test[['histtype', 'posnodes', 'grade', 'angioinv', 'lymphinfil']].copy()\n",
    "one_hot_features_test = enc.transform(one_hot_features_test)\n",
    "rest_features_test = X_test[['chemo', 'hormonal', 'amputation']].copy()\n",
    "final_test = np.hstack((scaled_features_test, one_hot_features_test.toarray(), rest_features_test))\n",
    "final_test.shape"
   ]
  },
  {
   "cell_type": "markdown",
   "metadata": {
    "id": "iy8uvQkJV53V"
   },
   "source": [
    "**KNN Implementation**"
   ]
  },
  {
   "cell_type": "code",
   "execution_count": 34,
   "metadata": {
    "colab": {
     "base_uri": "https://localhost:8080/",
     "height": 786
    },
    "id": "O47EEg44kRoZ",
    "outputId": "400d5cba-d9b2-4cf5-8e66-c6ae32cadded"
   },
   "outputs": [
    {
     "name": "stdout",
     "output_type": "stream",
     "text": [
      "Fitting 3 folds for each of 28 candidates, totalling 84 fits\n"
     ]
    },
    {
     "name": "stderr",
     "output_type": "stream",
     "text": [
      "[Parallel(n_jobs=-1)]: Using backend LokyBackend with 2 concurrent workers.\n",
      "[Parallel(n_jobs=-1)]: Done  84 out of  84 | elapsed:    0.4s finished\n"
     ]
    },
    {
     "data": {
      "image/png": "[encoded data removed]",
      "text/plain": [
       "<Figure size 576x576 with 2 Axes>"
      ]
     },
     "metadata": {
      "needs_background": "light",
      "tags": []
     },
     "output_type": "display_data"
    },
    {
     "name": "stdout",
     "output_type": "stream",
     "text": [
      "              precision    recall  f1-score   support\n",
      "\n",
      "           0       0.93      0.86      0.89        59\n",
      "           1       0.70      0.83      0.76        23\n",
      "\n",
      "    accuracy                           0.85        82\n",
      "   macro avg       0.82      0.85      0.83        82\n",
      "weighted avg       0.86      0.85      0.86        82\n",
      "\n"
     ]
    }
   ],
   "source": [
    "parameters = {'n_neighbors':[3,5,6,8,10,12,14], 'weights':['uniform','distance'], 'p': [1,2]}\n",
    "knn_clf = KNeighborsClassifier()\n",
    "knn_clf_grid = GridSearchCV(knn_clf, param_grid=parameters, cv=3, verbose=1, n_jobs=-1)\n",
    "knn_clf_grid_results =  perform_model(knn_clf_grid, X_train_os, y_train_os, final_test, y_test, labels)"
   ]
  },
  {
   "cell_type": "code",
   "execution_count": 31,
   "metadata": {
    "colab": {
     "base_uri": "https://localhost:8080/"
    },
    "id": "sV1bfViOVOyR",
    "outputId": "f6ad05b6-e68e-43cd-d225-19fa0b4da8fb"
   },
   "outputs": [
    {
     "name": "stdout",
     "output_type": "stream",
     "text": [
      "|      Best Estimator     |\n",
      "--------------------------\n",
      "\n",
      "\tKNeighborsClassifier(algorithm='auto', leaf_size=30, metric='minkowski',\n",
      "                     metric_params=None, n_jobs=None, n_neighbors=14, p=2,\n",
      "                     weights='distance')\n",
      "\n",
      "|     Best parameters     |\n",
      "--------------------------\n",
      "\tParameters of best estimator : \n",
      "\n",
      "\t{'n_neighbors': 14, 'p': 2, 'weights': 'distance'}\n",
      "\n",
      "--------------------------\n",
      "\n",
      "\tAverage Cross Validate scores of best estimator : \n",
      "\n",
      "\t0.9509685837599117\n",
      "\n"
     ]
    }
   ],
   "source": [
    "print_grid_search_attributes(knn_clf_grid)"
   ]
  },
  {
   "cell_type": "markdown",
   "metadata": {
    "id": "O6cn1wnXWSnV"
   },
   "source": [
    "\n",
    "\n",
    "1.   **F1 score of class 1 is much less than that of XGBOOST.\n",
    "XGBoost seems to give much better performance**\n",
    "2.   **KNN is slightly overfitting because CV metrics are greater than test metrics by 10%.**\n",
    "\n"
   ]
  },
  {
   "cell_type": "markdown",
   "metadata": {
    "id": "VmI0tT83XEC6"
   },
   "source": [
    "**SVM Implementatiom**"
   ]
  },
  {
   "cell_type": "code",
   "execution_count": 36,
   "metadata": {
    "colab": {
     "base_uri": "https://localhost:8080/",
     "height": 786
    },
    "id": "prkBeYBaXDGM",
    "outputId": "2143cfa4-5ba1-4823-fe87-0cd0a44dae4e"
   },
   "outputs": [
    {
     "name": "stdout",
     "output_type": "stream",
     "text": [
      "Fitting 3 folds for each of 10 candidates, totalling 30 fits\n"
     ]
    },
    {
     "name": "stderr",
     "output_type": "stream",
     "text": [
      "[Parallel(n_jobs=-1)]: Using backend LokyBackend with 2 concurrent workers.\n",
      "[Parallel(n_jobs=-1)]: Done  30 out of  30 | elapsed:    0.9s finished\n"
     ]
    },
    {
     "data": {
      "image/png": "[encoded data removed]",
      "text/plain": [
       "<Figure size 576x576 with 2 Axes>"
      ]
     },
     "metadata": {
      "needs_background": "light",
      "tags": []
     },
     "output_type": "display_data"
    },
    {
     "name": "stdout",
     "output_type": "stream",
     "text": [
      "              precision    recall  f1-score   support\n",
      "\n",
      "           0       0.95      0.90      0.92        59\n",
      "           1       0.77      0.87      0.82        23\n",
      "\n",
      "    accuracy                           0.89        82\n",
      "   macro avg       0.86      0.88      0.87        82\n",
      "weighted avg       0.90      0.89      0.89        82\n",
      "\n"
     ]
    }
   ],
   "source": [
    "parameters = {'C':[0.01,0.1,1,5,10], 'kernel':['linear','rbf']}\n",
    "svc_clf = SVC()\n",
    "svc_clf_grid = GridSearchCV(svc_clf, param_grid=parameters, cv=3, verbose=1, n_jobs=-1)\n",
    "svc_clf_grid_results =  perform_model(svc_clf_grid, X_train_os, y_train_os, final_test, y_test, labels)"
   ]
  },
  {
   "cell_type": "code",
   "execution_count": 37,
   "metadata": {
    "colab": {
     "base_uri": "https://localhost:8080/"
    },
    "id": "tx2mKT7bYLN0",
    "outputId": "a84444a4-0c01-47ff-b24f-b9ae547c0623"
   },
   "outputs": [
    {
     "name": "stdout",
     "output_type": "stream",
     "text": [
      "|      Best Estimator     |\n",
      "--------------------------\n",
      "\n",
      "\tSVC(C=1, break_ties=False, cache_size=200, class_weight=None, coef0=0.0,\n",
      "    decision_function_shape='ovr', degree=3, gamma='scale', kernel='rbf',\n",
      "    max_iter=-1, probability=False, random_state=None, shrinking=True,\n",
      "    tol=0.001, verbose=False)\n",
      "\n",
      "|     Best parameters     |\n",
      "--------------------------\n",
      "\tParameters of best estimator : \n",
      "\n",
      "\t{'C': 1, 'kernel': 'rbf'}\n",
      "\n",
      "--------------------------\n",
      "\n",
      "\tAverage Cross Validate scores of best estimator : \n",
      "\n",
      "\t0.8720930232558141\n",
      "\n"
     ]
    }
   ],
   "source": [
    "print_grid_search_attributes(svc_clf_grid)"
   ]
  },
  {
   "cell_type": "markdown",
   "metadata": {
    "id": "pBPJj9n_YS0H"
   },
   "source": [
    "*SVC with RBF kernel seems to be working fine than KNN*"
   ]
  },
  {
   "cell_type": "markdown",
   "metadata": {
    "id": "cvp0eoKnYcBP"
   },
   "source": [
    "Of the three models XGBOOST is giving us better F1 score for both the classes."
   ]
  }
 ],
 "metadata": {
  "colab": {
   "collapsed_sections": [],
   "name": "OTIS Assignment.ipynb",
   "provenance": []
  },
  "kernelspec": {
   "display_name": "Python 3",
   "language": "python",
   "name": "python3"
  },
  "language_info": {
   "codemirror_mode": {
    "name": "ipython",
    "version": 3
   },
   "file_extension": ".py",
   "mimetype": "text/x-python",
   "name": "python",
   "nbconvert_exporter": "python",
   "pygments_lexer": "ipython3",
   "version": "3.6.5"
  }
 },
 "nbformat": 4,
 "nbformat_minor": 1
}
